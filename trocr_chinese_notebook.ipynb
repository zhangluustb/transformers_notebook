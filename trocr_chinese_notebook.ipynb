{
  "nbformat": 4,
  "nbformat_minor": 0,
  "metadata": {
    "colab": {
      "provenance": [],
      "mount_file_id": "1rzC-B4dhXOByh1d95qQOhiKGKpdvogYF",
      "authorship_tag": "ABX9TyP7jl1SbSP6gV2w/oer9MNK",
      "include_colab_link": true
    },
    "kernelspec": {
      "name": "python3",
      "display_name": "Python 3"
    },
    "language_info": {
      "name": "python"
    },
    "accelerator": "GPU",
    "gpuClass": "standard"
  },
  "cells": [
    {
      "cell_type": "markdown",
      "metadata": {
        "id": "view-in-github",
        "colab_type": "text"
      },
      "source": [
        "<a href=\"https://colab.research.google.com/github/zhangluustb/transformers_notebook/blob/main/trocr_chinese_notebook.ipynb\" target=\"_parent\"><img src=\"https://colab.research.google.com/assets/colab-badge.svg\" alt=\"Open In Colab\"/></a>"
      ]
    },
    {
      "cell_type": "code",
      "execution_count": 1,
      "metadata": {
        "colab": {
          "base_uri": "https://localhost:8080/"
        },
        "id": "E1K56bflqZW3",
        "outputId": "e5505a69-c428-4e0f-996c-43b041e06af3"
      },
      "outputs": [
        {
          "output_type": "stream",
          "name": "stdout",
          "text": [
            "fatal: destination path 'trocr-chinese' already exists and is not an empty directory.\n"
          ]
        }
      ],
      "source": [
        "!git clone https://github.com/chineseocr/trocr-chinese.git"
      ]
    },
    {
      "cell_type": "code",
      "source": [
        "import os\n",
        "os.chdir(\"/content/trocr-chinese\")"
      ],
      "metadata": {
        "id": "bLA1iKenrCYY"
      },
      "execution_count": 2,
      "outputs": []
    },
    {
      "cell_type": "code",
      "source": [
        "pwd"
      ],
      "metadata": {
        "colab": {
          "base_uri": "https://localhost:8080/",
          "height": 35
        },
        "id": "G5JCRQuJrH_d",
        "outputId": "887831db-8867-48fc-ea11-39f80dcd5db3"
      },
      "execution_count": 3,
      "outputs": [
        {
          "output_type": "execute_result",
          "data": {
            "text/plain": [
              "'/content/trocr-chinese'"
            ],
            "application/vnd.google.colaboratory.intrinsic+json": {
              "type": "string"
            }
          },
          "metadata": {},
          "execution_count": 3
        }
      ]
    },
    {
      "cell_type": "code",
      "source": [
        "# install\n",
        "!pip install -r requirements.txt"
      ],
      "metadata": {
        "colab": {
          "base_uri": "https://localhost:8080/"
        },
        "id": "MbFqK6rmqfVQ",
        "outputId": "31f63897-6e0e-4c3e-983a-af7a28e22f9a"
      },
      "execution_count": 5,
      "outputs": [
        {
          "output_type": "stream",
          "name": "stdout",
          "text": [
            "Looking in indexes: https://pypi.org/simple, https://us-python.pkg.dev/colab-wheels/public/simple/\n",
            "Collecting datasets\n",
            "  Downloading datasets-2.8.0-py3-none-any.whl (452 kB)\n",
            "\u001b[2K     \u001b[90m━━━━━━━━━━━━━━━━━━━━━━━━━━━━━━━━━━━━━━\u001b[0m \u001b[32m452.9/452.9 KB\u001b[0m \u001b[31m32.5 MB/s\u001b[0m eta \u001b[36m0:00:00\u001b[0m\n",
            "\u001b[?25hCollecting transformers==4.15.0\n",
            "  Downloading transformers-4.15.0-py3-none-any.whl (3.4 MB)\n",
            "\u001b[2K     \u001b[90m━━━━━━━━━━━━━━━━━━━━━━━━━━━━━━━━━━━━━━━━\u001b[0m \u001b[32m3.4/3.4 MB\u001b[0m \u001b[31m63.6 MB/s\u001b[0m eta \u001b[36m0:00:00\u001b[0m\n",
            "\u001b[?25hRequirement already satisfied: scikit-learn in /usr/local/lib/python3.8/dist-packages (from -r requirements.txt (line 3)) (1.0.2)\n",
            "Collecting jiwer==2.3.0\n",
            "  Downloading jiwer-2.3.0-py3-none-any.whl (15 kB)\n",
            "Collecting python-Levenshtein==0.12.2\n",
            "  Downloading python-Levenshtein-0.12.2.tar.gz (50 kB)\n",
            "\u001b[2K     \u001b[90m━━━━━━━━━━━━━━━━━━━━━━━━━━━━━━━━━━━━━━━━\u001b[0m \u001b[32m50.5/50.5 KB\u001b[0m \u001b[31m6.6 MB/s\u001b[0m eta \u001b[36m0:00:00\u001b[0m\n",
            "\u001b[?25h  Preparing metadata (setup.py) ... \u001b[?25l\u001b[?25hdone\n",
            "Requirement already satisfied: regex!=2019.12.17 in /usr/local/lib/python3.8/dist-packages (from transformers==4.15.0->-r requirements.txt (line 2)) (2022.6.2)\n",
            "Collecting huggingface-hub<1.0,>=0.1.0\n",
            "  Downloading huggingface_hub-0.11.1-py3-none-any.whl (182 kB)\n",
            "\u001b[2K     \u001b[90m━━━━━━━━━━━━━━━━━━━━━━━━━━━━━━━━━━━━━━\u001b[0m \u001b[32m182.4/182.4 KB\u001b[0m \u001b[31m13.5 MB/s\u001b[0m eta \u001b[36m0:00:00\u001b[0m\n",
            "\u001b[?25hRequirement already satisfied: packaging>=20.0 in /usr/local/lib/python3.8/dist-packages (from transformers==4.15.0->-r requirements.txt (line 2)) (21.3)\n",
            "Collecting sacremoses\n",
            "  Downloading sacremoses-0.0.53.tar.gz (880 kB)\n",
            "\u001b[2K     \u001b[90m━━━━━━━━━━━━━━━━━━━━━━━━━━━━━━━━━━━━━━\u001b[0m \u001b[32m880.6/880.6 KB\u001b[0m \u001b[31m58.7 MB/s\u001b[0m eta \u001b[36m0:00:00\u001b[0m\n",
            "\u001b[?25h  Preparing metadata (setup.py) ... \u001b[?25l\u001b[?25hdone\n",
            "Collecting tokenizers<0.11,>=0.10.1\n",
            "  Downloading tokenizers-0.10.3-cp38-cp38-manylinux_2_5_x86_64.manylinux1_x86_64.manylinux_2_12_x86_64.manylinux2010_x86_64.whl (3.3 MB)\n",
            "\u001b[2K     \u001b[90m━━━━━━━━━━━━━━━━━━━━━━━━━━━━━━━━━━━━━━━━\u001b[0m \u001b[32m3.3/3.3 MB\u001b[0m \u001b[31m89.8 MB/s\u001b[0m eta \u001b[36m0:00:00\u001b[0m\n",
            "\u001b[?25hRequirement already satisfied: tqdm>=4.27 in /usr/local/lib/python3.8/dist-packages (from transformers==4.15.0->-r requirements.txt (line 2)) (4.64.1)\n",
            "Requirement already satisfied: filelock in /usr/local/lib/python3.8/dist-packages (from transformers==4.15.0->-r requirements.txt (line 2)) (3.9.0)\n",
            "Requirement already satisfied: pyyaml>=5.1 in /usr/local/lib/python3.8/dist-packages (from transformers==4.15.0->-r requirements.txt (line 2)) (6.0)\n",
            "Requirement already satisfied: numpy>=1.17 in /usr/local/lib/python3.8/dist-packages (from transformers==4.15.0->-r requirements.txt (line 2)) (1.21.6)\n",
            "Requirement already satisfied: requests in /usr/local/lib/python3.8/dist-packages (from transformers==4.15.0->-r requirements.txt (line 2)) (2.25.1)\n",
            "Requirement already satisfied: setuptools in /usr/local/lib/python3.8/dist-packages (from python-Levenshtein==0.12.2->-r requirements.txt (line 5)) (57.4.0)\n",
            "Collecting xxhash\n",
            "  Downloading xxhash-3.2.0-cp38-cp38-manylinux_2_17_x86_64.manylinux2014_x86_64.whl (213 kB)\n",
            "\u001b[2K     \u001b[90m━━━━━━━━━━━━━━━━━━━━━━━━━━━━━━━━━━━━━━\u001b[0m \u001b[32m213.0/213.0 KB\u001b[0m \u001b[31m22.8 MB/s\u001b[0m eta \u001b[36m0:00:00\u001b[0m\n",
            "\u001b[?25hCollecting responses<0.19\n",
            "  Downloading responses-0.18.0-py3-none-any.whl (38 kB)\n",
            "Requirement already satisfied: fsspec[http]>=2021.11.1 in /usr/local/lib/python3.8/dist-packages (from datasets->-r requirements.txt (line 1)) (2022.11.0)\n",
            "Requirement already satisfied: pyarrow>=6.0.0 in /usr/local/lib/python3.8/dist-packages (from datasets->-r requirements.txt (line 1)) (9.0.0)\n",
            "Requirement already satisfied: dill<0.3.7 in /usr/local/lib/python3.8/dist-packages (from datasets->-r requirements.txt (line 1)) (0.3.6)\n",
            "Requirement already satisfied: aiohttp in /usr/local/lib/python3.8/dist-packages (from datasets->-r requirements.txt (line 1)) (3.8.3)\n",
            "Requirement already satisfied: pandas in /usr/local/lib/python3.8/dist-packages (from datasets->-r requirements.txt (line 1)) (1.3.5)\n",
            "Collecting multiprocess\n",
            "  Downloading multiprocess-0.70.14-py38-none-any.whl (132 kB)\n",
            "\u001b[2K     \u001b[90m━━━━━━━━━━━━━━━━━━━━━━━━━━━━━━━━━━━━━━\u001b[0m \u001b[32m132.0/132.0 KB\u001b[0m \u001b[31m17.3 MB/s\u001b[0m eta \u001b[36m0:00:00\u001b[0m\n",
            "\u001b[?25hRequirement already satisfied: threadpoolctl>=2.0.0 in /usr/local/lib/python3.8/dist-packages (from scikit-learn->-r requirements.txt (line 3)) (3.1.0)\n",
            "Requirement already satisfied: joblib>=0.11 in /usr/local/lib/python3.8/dist-packages (from scikit-learn->-r requirements.txt (line 3)) (1.2.0)\n",
            "Requirement already satisfied: scipy>=1.1.0 in /usr/local/lib/python3.8/dist-packages (from scikit-learn->-r requirements.txt (line 3)) (1.7.3)\n",
            "Requirement already satisfied: async-timeout<5.0,>=4.0.0a3 in /usr/local/lib/python3.8/dist-packages (from aiohttp->datasets->-r requirements.txt (line 1)) (4.0.2)\n",
            "Requirement already satisfied: aiosignal>=1.1.2 in /usr/local/lib/python3.8/dist-packages (from aiohttp->datasets->-r requirements.txt (line 1)) (1.3.1)\n",
            "Requirement already satisfied: multidict<7.0,>=4.5 in /usr/local/lib/python3.8/dist-packages (from aiohttp->datasets->-r requirements.txt (line 1)) (6.0.4)\n",
            "Requirement already satisfied: frozenlist>=1.1.1 in /usr/local/lib/python3.8/dist-packages (from aiohttp->datasets->-r requirements.txt (line 1)) (1.3.3)\n",
            "Requirement already satisfied: yarl<2.0,>=1.0 in /usr/local/lib/python3.8/dist-packages (from aiohttp->datasets->-r requirements.txt (line 1)) (1.8.2)\n",
            "Requirement already satisfied: charset-normalizer<3.0,>=2.0 in /usr/local/lib/python3.8/dist-packages (from aiohttp->datasets->-r requirements.txt (line 1)) (2.1.1)\n",
            "Requirement already satisfied: attrs>=17.3.0 in /usr/local/lib/python3.8/dist-packages (from aiohttp->datasets->-r requirements.txt (line 1)) (22.2.0)\n",
            "Requirement already satisfied: typing-extensions>=3.7.4.3 in /usr/local/lib/python3.8/dist-packages (from huggingface-hub<1.0,>=0.1.0->transformers==4.15.0->-r requirements.txt (line 2)) (4.4.0)\n",
            "Requirement already satisfied: pyparsing!=3.0.5,>=2.0.2 in /usr/local/lib/python3.8/dist-packages (from packaging>=20.0->transformers==4.15.0->-r requirements.txt (line 2)) (3.0.9)\n",
            "Requirement already satisfied: chardet<5,>=3.0.2 in /usr/local/lib/python3.8/dist-packages (from requests->transformers==4.15.0->-r requirements.txt (line 2)) (4.0.0)\n",
            "Requirement already satisfied: idna<3,>=2.5 in /usr/local/lib/python3.8/dist-packages (from requests->transformers==4.15.0->-r requirements.txt (line 2)) (2.10)\n",
            "Requirement already satisfied: urllib3<1.27,>=1.21.1 in /usr/local/lib/python3.8/dist-packages (from requests->transformers==4.15.0->-r requirements.txt (line 2)) (1.24.3)\n",
            "Requirement already satisfied: certifi>=2017.4.17 in /usr/local/lib/python3.8/dist-packages (from requests->transformers==4.15.0->-r requirements.txt (line 2)) (2022.12.7)\n",
            "Collecting urllib3<1.27,>=1.21.1\n",
            "  Downloading urllib3-1.26.14-py2.py3-none-any.whl (140 kB)\n",
            "\u001b[2K     \u001b[90m━━━━━━━━━━━━━━━━━━━━━━━━━━━━━━━━━━━━━━\u001b[0m \u001b[32m140.6/140.6 KB\u001b[0m \u001b[31m17.6 MB/s\u001b[0m eta \u001b[36m0:00:00\u001b[0m\n",
            "\u001b[?25hRequirement already satisfied: python-dateutil>=2.7.3 in /usr/local/lib/python3.8/dist-packages (from pandas->datasets->-r requirements.txt (line 1)) (2.8.2)\n",
            "Requirement already satisfied: pytz>=2017.3 in /usr/local/lib/python3.8/dist-packages (from pandas->datasets->-r requirements.txt (line 1)) (2022.7)\n",
            "Requirement already satisfied: six in /usr/local/lib/python3.8/dist-packages (from sacremoses->transformers==4.15.0->-r requirements.txt (line 2)) (1.15.0)\n",
            "Requirement already satisfied: click in /usr/local/lib/python3.8/dist-packages (from sacremoses->transformers==4.15.0->-r requirements.txt (line 2)) (7.1.2)\n",
            "Building wheels for collected packages: python-Levenshtein, sacremoses\n",
            "  Building wheel for python-Levenshtein (setup.py) ... \u001b[?25l\u001b[?25hdone\n",
            "  Created wheel for python-Levenshtein: filename=python_Levenshtein-0.12.2-cp38-cp38-linux_x86_64.whl size=149836 sha256=5523d75492b6ae4dddd256e0fb8e582174e3c5b81c69e62a0d29ae254b3042d4\n",
            "  Stored in directory: /root/.cache/pip/wheels/d7/0c/76/042b46eb0df65c3ccd0338f791210c55ab79d209bcc269e2c7\n",
            "  Building wheel for sacremoses (setup.py) ... \u001b[?25l\u001b[?25hdone\n",
            "  Created wheel for sacremoses: filename=sacremoses-0.0.53-py3-none-any.whl size=895260 sha256=aa067074aa0f01f3dd310c16928e461c332cae2e7fba841081b4115784a1414b\n",
            "  Stored in directory: /root/.cache/pip/wheels/82/ab/9b/c15899bf659ba74f623ac776e861cf2eb8608c1825ddec66a4\n",
            "Successfully built python-Levenshtein sacremoses\n",
            "Installing collected packages: tokenizers, xxhash, urllib3, sacremoses, python-Levenshtein, multiprocess, jiwer, responses, huggingface-hub, transformers, datasets\n",
            "  Attempting uninstall: urllib3\n",
            "    Found existing installation: urllib3 1.24.3\n",
            "    Uninstalling urllib3-1.24.3:\n",
            "      Successfully uninstalled urllib3-1.24.3\n",
            "Successfully installed datasets-2.8.0 huggingface-hub-0.11.1 jiwer-2.3.0 multiprocess-0.70.14 python-Levenshtein-0.12.2 responses-0.18.0 sacremoses-0.0.53 tokenizers-0.10.3 transformers-4.15.0 urllib3-1.26.14 xxhash-3.2.0\n"
          ]
        }
      ]
    },
    {
      "cell_type": "code",
      "source": [
        "# copy weights\n",
        "!cp /content/drive/MyDrive/trocr-chinese/pre-weights/TAL_OCR_CHN.zip ."
      ],
      "metadata": {
        "id": "XSLUn4uHql4S"
      },
      "execution_count": 6,
      "outputs": []
    },
    {
      "cell_type": "code",
      "source": [
        "!unzip TAL_OCR_CHN.zip"
      ],
      "metadata": {
        "colab": {
          "base_uri": "https://localhost:8080/"
        },
        "id": "04PFcwawq-9D",
        "outputId": "fd5d095e-6107-4610-c0a9-d843c40483e7"
      },
      "execution_count": 7,
      "outputs": [
        {
          "output_type": "stream",
          "name": "stdout",
          "text": [
            "Archive:  TAL_OCR_CHN.zip\n",
            "  inflating: TAL_OCR_CHN/config.json  \n",
            " extracting: TAL_OCR_CHN/merges.txt  \n",
            "  inflating: TAL_OCR_CHN/preprocessor_config.json  \n",
            "  inflating: TAL_OCR_CHN/pytorch_model.bin  \n",
            "  inflating: TAL_OCR_CHN/special_tokens_map.json  \n",
            "  inflating: TAL_OCR_CHN/tokenizer_config.json  \n",
            "  inflating: TAL_OCR_CHN/vocab.json  \n",
            "  inflating: TAL_OCR_CHN/vocab.txt   \n"
          ]
        }
      ]
    },
    {
      "cell_type": "code",
      "source": [
        "# 测试训练脚本\n",
        "!python init_custdata_model.py --cust_vocab ./cust-data/vocab.txt --pretrain_model ./weights --cust_data_init_weights_path ./cust-data/weights"
      ],
      "metadata": {
        "id": "3TjmVF2SrAUV"
      },
      "execution_count": null,
      "outputs": []
    },
    {
      "cell_type": "code",
      "source": [
        "!python train.py --cust_data_init_weights_path ./cust-data/weights --checkpoint_path ./checkpoint/trocr-custdata --dataset_path \"./dataset/cust-data/*/*.jpg\" --per_device_train_batch_size 1 --CUDA_VISIBLE_DEVICES 0"
      ],
      "metadata": {
        "id": "wFtmyrdrs7vQ"
      },
      "execution_count": null,
      "outputs": []
    },
    {
      "cell_type": "markdown",
      "source": [
        "---"
      ],
      "metadata": {
        "id": "s8QE8WRXt_J8"
      }
    },
    {
      "cell_type": "markdown",
      "source": [
        "# 分析代码"
      ],
      "metadata": {
        "id": "9Q5ScfumuAz8"
      }
    },
    {
      "cell_type": "markdown",
      "source": [
        "## 模型和预训练模型"
      ],
      "metadata": {
        "id": "XsLCIkjsuDsT"
      }
    },
    {
      "cell_type": "code",
      "source": [
        "import os\n",
        "import json\n",
        "from transformers import TrOCRProcessor, VisionEncoderDecoderModel\n",
        "from transformers import AutoConfig\n",
        "def read_vocab(vocab_path):\n",
        "    \"\"\"\n",
        "    读取自定义训练字符集\n",
        "    vocab_path format:\n",
        "    1\\n\n",
        "    2\\n\n",
        "    ...\n",
        "    我\\n\n",
        "    \"\"\"\n",
        "    other = [\"<s>\", \"<pad>\", \"</s>\", \"<unk>\", \"<mask>\"]\n",
        "    vocab = {}\n",
        "    for ot in other:\n",
        "        vocab[ot] = len(vocab)\n",
        "\n",
        "    with open(vocab_path) as f:\n",
        "        for line in f:\n",
        "            line = line.strip('\\n')\n",
        "            if line not in vocab:\n",
        "                vocab[line] = len(vocab)\n",
        "    return vocab\n",
        "pretrain_model=\"weights\"\n",
        "cust_data_init_weights_path=\"new_weights\"\n",
        "\n",
        "\n",
        "processor = TrOCRProcessor.from_pretrained(pretrain_model)\n",
        "pre_model = VisionEncoderDecoderModel.from_pretrained(pretrain_model)\n",
        "\n",
        "pre_vocab = processor.tokenizer.get_vocab()\n",
        "cust_vocab = read_vocab(\"cust-data/vocab.txt\")\n",
        "\n",
        "keep_tokens = []\n",
        "unk_index = pre_vocab.get('<unk>')\n",
        "for key in cust_vocab:\n",
        "    keep_tokens.append(pre_vocab.get(key, unk_index))\n",
        "\n",
        "processor.save_pretrained(\"new_weights\")\n",
        "\n",
        "pre_model.save_pretrained(\"new_weights\")\n",
        "## 替换词库\n",
        "with open(os.path.join(\"new_weights\", \"vocab.json\"), \"w\") as f:\n",
        "    f.write(json.dumps(cust_vocab, ensure_ascii=False))\n",
        "\n",
        "##替换模型参数\n",
        "with open(os.path.join(\"new_weights\", \"config.json\")) as f:\n",
        "    model_config = json.load(f)\n"
      ],
      "metadata": {
        "id": "w-wXXHOXtkqf"
      },
      "execution_count": 24,
      "outputs": []
    },
    {
      "cell_type": "code",
      "source": [
        "len(keep_tokens)"
      ],
      "metadata": {
        "colab": {
          "base_uri": "https://localhost:8080/"
        },
        "id": "3g5LBavdvc2B",
        "outputId": "5210925b-2c75-4c5e-9c3c-223c9419b5d4"
      },
      "execution_count": 25,
      "outputs": [
        {
          "output_type": "execute_result",
          "data": {
            "text/plain": [
              "3081"
            ]
          },
          "metadata": {},
          "execution_count": 25
        }
      ]
    },
    {
      "cell_type": "code",
      "source": [
        "## 替换roberta embedding层词库\n",
        "model_config[\"decoder\"]['vocab_size'] = len(cust_vocab)\n",
        "\n",
        "## 替换 attetion 字库\n",
        "model_config['vocab_size'] = len(cust_vocab)\n",
        "\n",
        "with open(os.path.join(cust_data_init_weights_path, \"config.json\"), \"w\") as f:\n",
        "    f.write(json.dumps(model_config, ensure_ascii=False))\n",
        "\n",
        "##加载cust model\n",
        "cust_config = AutoConfig.from_pretrained(cust_data_init_weights_path)\n",
        "cust_model = VisionEncoderDecoderModel(cust_config)\n",
        "\n",
        "pre_model_weigths = pre_model.state_dict()\n",
        "cust_model_weigths = cust_model.state_dict()"
      ],
      "metadata": {
        "id": "jdwfjQPdvDBZ"
      },
      "execution_count": 27,
      "outputs": []
    },
    {
      "cell_type": "code",
      "source": [
        "len(keep_tokens)"
      ],
      "metadata": {
        "colab": {
          "base_uri": "https://localhost:8080/"
        },
        "id": "I_RISlJ0w5Qn",
        "outputId": "beb463d0-3af7-4b31-a40f-ec52f327783f"
      },
      "execution_count": 28,
      "outputs": [
        {
          "output_type": "execute_result",
          "data": {
            "text/plain": [
              "3081"
            ]
          },
          "metadata": {},
          "execution_count": 28
        }
      ]
    },
    {
      "cell_type": "code",
      "source": [
        "##权重初始化\n",
        "print(\"loading init weights..................\")\n",
        "for key in pre_model_weigths:\n",
        "    \n",
        "    if pre_model_weigths[key].shape != cust_model_weigths[key].shape:\n",
        "        print(\"name:\", key,pre_model_weigths[key].shape)\n",
        "        wt = pre_model_weigths[key][keep_tokens, :] #未知的token设置为unk权重\n",
        "        cust_model_weigths[key] = wt\n",
        "    else:\n",
        "        cust_model_weigths[key] = pre_model_weigths[key]"
      ],
      "metadata": {
        "colab": {
          "base_uri": "https://localhost:8080/"
        },
        "id": "UNXa6MLfvDEC",
        "outputId": "7ebaeb3d-2fd2-420e-8656-ce89cfbf367e"
      },
      "execution_count": 29,
      "outputs": [
        {
          "output_type": "stream",
          "name": "stdout",
          "text": [
            "loading init weights..................\n",
            "name: decoder.model.decoder.embed_tokens.weight torch.Size([2667, 256])\n",
            "name: decoder.output_projection.weight torch.Size([2667, 256])\n"
          ]
        }
      ]
    },
    {
      "cell_type": "code",
      "source": [
        "len(set(keep_tokens))"
      ],
      "metadata": {
        "colab": {
          "base_uri": "https://localhost:8080/"
        },
        "id": "rR8Oi4ryvDHA",
        "outputId": "2284043f-6714-40d2-ddcf-5337cd5db808"
      },
      "execution_count": 31,
      "outputs": [
        {
          "output_type": "execute_result",
          "data": {
            "text/plain": [
              "2001"
            ]
          },
          "metadata": {},
          "execution_count": 31
        }
      ]
    },
    {
      "cell_type": "code",
      "source": [
        "cust_model_weigths[\"decoder.model.decoder.embed_tokens.weight\"].shape"
      ],
      "metadata": {
        "colab": {
          "base_uri": "https://localhost:8080/"
        },
        "id": "cPcIiPH9vDKP",
        "outputId": "cb78e955-82d5-46ed-868e-cb00047824a4"
      },
      "execution_count": 32,
      "outputs": [
        {
          "output_type": "execute_result",
          "data": {
            "text/plain": [
              "torch.Size([3081, 256])"
            ]
          },
          "metadata": {},
          "execution_count": 32
        }
      ]
    },
    {
      "cell_type": "code",
      "source": [
        "pre_vocab.get('<unk>')"
      ],
      "metadata": {
        "colab": {
          "base_uri": "https://localhost:8080/"
        },
        "id": "N35K-7lnx1Yl",
        "outputId": "6e283466-9d7e-4121-a838-3247038eaf0f"
      },
      "execution_count": 34,
      "outputs": [
        {
          "output_type": "execute_result",
          "data": {
            "text/plain": [
              "3"
            ]
          },
          "metadata": {},
          "execution_count": 34
        }
      ]
    },
    {
      "cell_type": "markdown",
      "source": [
        "---"
      ],
      "metadata": {
        "id": "RxWWnnXByYX2"
      }
    },
    {
      "cell_type": "markdown",
      "source": [
        "## model and train"
      ],
      "metadata": {
        "id": "aKb5PSU9ykwB"
      }
    },
    {
      "cell_type": "markdown",
      "source": [
        "trocrDataset\n",
        "\n",
        "```\n",
        "# python \n",
        "image = Image.open(image_file).convert(\"RGB\")\n",
        "image = self.transformer(image) ##图像增强函数\n",
        "pixel_values = self.processor(image, return_tensors=\"pt\").pixel_values\n",
        "labels = encode_text(text, max_target_length=self.max_target_length, vocab=self.vocab)\n",
        "labels = [label if label != self.processor.tokenizer.pad_token_id else -100 for label in labels]\n",
        "```\n",
        "\n",
        "encode\n",
        "```\n",
        "# python\n",
        "text = text[:max_target_length - 2]\n",
        "tokens = [vocab.get('<s>')]\n",
        "unk = vocab.get('<unk>')\n",
        "pad = vocab.get('<pad>')\n",
        "mask = []\n",
        "for tk in text:\n",
        "    token = vocab.get(tk, unk)\n",
        "    tokens.append(token)\n",
        "    mask.append(1)\n",
        "\n",
        "tokens.append(vocab.get('</s>'))\n",
        "mask.append(1)\n",
        "\n",
        "if len(tokens) < max_target_length:\n",
        "    for i in range(max_target_length - len(tokens)):\n",
        "        tokens.append(pad)\n",
        "        mask.append(0)\n",
        "```\n",
        "\n"
      ],
      "metadata": {
        "id": "WMnZM4mGyxKl"
      }
    },
    {
      "cell_type": "code",
      "source": [
        "cust_data_init_weights_path=\"./new_weights\"\n",
        "checkpoint_path =\"./checkpoint/trocr-custdata\"\n",
        "dataset_path=\"./dataset/cust-data/*/*.jpg\"\n",
        "per_device_train_batch_size=1"
      ],
      "metadata": {
        "id": "oK2zyFP20STC"
      },
      "execution_count": 40,
      "outputs": []
    },
    {
      "cell_type": "code",
      "source": [
        "processor = TrOCRProcessor.from_pretrained(cust_data_init_weights_path)\n",
        "vocab = processor.tokenizer.get_vocab()\n",
        "vocab_inp = {vocab[key]: key for key in vocab}"
      ],
      "metadata": {
        "id": "lI5jAWvA0gyp"
      },
      "execution_count": 41,
      "outputs": []
    },
    {
      "cell_type": "code",
      "source": [
        "from glob import glob\n",
        "train_paths=glob(dataset_path)\n",
        "test_paths=train_paths"
      ],
      "metadata": {
        "id": "alQDtgpp05uJ"
      },
      "execution_count": 43,
      "outputs": []
    },
    {
      "cell_type": "code",
      "source": [
        "from dataset import trocrDataset, decode_text\n",
        "transformer = lambda x: x\n",
        "train_dataset = trocrDataset(paths=train_paths, processor=processor, max_target_length=128, transformer=transformer)\n",
        "transformer = lambda x: x  ##图像数据增强函数\n",
        "eval_dataset = trocrDataset(paths=test_paths, processor=processor, max_target_length=128, transformer=transformer)\n"
      ],
      "metadata": {
        "id": "4WAo1EtsykFV"
      },
      "execution_count": 46,
      "outputs": []
    },
    {
      "cell_type": "code",
      "source": [
        "model = VisionEncoderDecoderModel.from_pretrained(cust_data_init_weights_path)\n",
        "model.config.decoder_start_token_id = processor.tokenizer.cls_token_id\n",
        "model.config.pad_token_id = processor.tokenizer.pad_token_id\n",
        "\n",
        "model.config.vocab_size = model.config.decoder.vocab_size\n",
        "\n",
        "model.config.eos_token_id = processor.tokenizer.sep_token_id\n",
        "model.config.max_length = 256\n",
        "model.config.early_stopping = True\n",
        "model.config.no_repeat_ngram_size = 3\n",
        "model.config.length_penalty = 2.0\n",
        "model.config.num_beams = 4"
      ],
      "metadata": {
        "colab": {
          "base_uri": "https://localhost:8080/",
          "height": 500
        },
        "id": "y99PTr4Sxwul",
        "outputId": "b77cdf33-9e67-4755-ee33-421c2e471c11"
      },
      "execution_count": 48,
      "outputs": [
        {
          "output_type": "error",
          "ename": "RuntimeError",
          "evalue": "ignored",
          "traceback": [
            "\u001b[0;31m---------------------------------------------------------------------------\u001b[0m",
            "\u001b[0;31mRuntimeError\u001b[0m                              Traceback (most recent call last)",
            "\u001b[0;32m<ipython-input-48-ebacb63ef7a6>\u001b[0m in \u001b[0;36m<module>\u001b[0;34m\u001b[0m\n\u001b[0;32m----> 1\u001b[0;31m \u001b[0mmodel\u001b[0m \u001b[0;34m=\u001b[0m \u001b[0mVisionEncoderDecoderModel\u001b[0m\u001b[0;34m.\u001b[0m\u001b[0mfrom_pretrained\u001b[0m\u001b[0;34m(\u001b[0m\u001b[0mcust_data_init_weights_path\u001b[0m\u001b[0;34m)\u001b[0m\u001b[0;34m\u001b[0m\u001b[0;34m\u001b[0m\u001b[0m\n\u001b[0m\u001b[1;32m      2\u001b[0m \u001b[0mmodel\u001b[0m\u001b[0;34m.\u001b[0m\u001b[0mconfig\u001b[0m\u001b[0;34m.\u001b[0m\u001b[0mdecoder_start_token_id\u001b[0m \u001b[0;34m=\u001b[0m \u001b[0mprocessor\u001b[0m\u001b[0;34m.\u001b[0m\u001b[0mtokenizer\u001b[0m\u001b[0;34m.\u001b[0m\u001b[0mcls_token_id\u001b[0m\u001b[0;34m\u001b[0m\u001b[0;34m\u001b[0m\u001b[0m\n\u001b[1;32m      3\u001b[0m \u001b[0mmodel\u001b[0m\u001b[0;34m.\u001b[0m\u001b[0mconfig\u001b[0m\u001b[0;34m.\u001b[0m\u001b[0mpad_token_id\u001b[0m \u001b[0;34m=\u001b[0m \u001b[0mprocessor\u001b[0m\u001b[0;34m.\u001b[0m\u001b[0mtokenizer\u001b[0m\u001b[0;34m.\u001b[0m\u001b[0mpad_token_id\u001b[0m\u001b[0;34m\u001b[0m\u001b[0;34m\u001b[0m\u001b[0m\n\u001b[1;32m      4\u001b[0m \u001b[0;34m\u001b[0m\u001b[0m\n\u001b[1;32m      5\u001b[0m \u001b[0mmodel\u001b[0m\u001b[0;34m.\u001b[0m\u001b[0mconfig\u001b[0m\u001b[0;34m.\u001b[0m\u001b[0mvocab_size\u001b[0m \u001b[0;34m=\u001b[0m \u001b[0mmodel\u001b[0m\u001b[0;34m.\u001b[0m\u001b[0mconfig\u001b[0m\u001b[0;34m.\u001b[0m\u001b[0mdecoder\u001b[0m\u001b[0;34m.\u001b[0m\u001b[0mvocab_size\u001b[0m\u001b[0;34m\u001b[0m\u001b[0;34m\u001b[0m\u001b[0m\n",
            "\u001b[0;32m/usr/local/lib/python3.8/dist-packages/transformers/models/vision_encoder_decoder/modeling_vision_encoder_decoder.py\u001b[0m in \u001b[0;36mfrom_pretrained\u001b[0;34m(cls, *args, **kwargs)\u001b[0m\n\u001b[1;32m    243\u001b[0m             )\n\u001b[1;32m    244\u001b[0m         \u001b[0mkwargs\u001b[0m\u001b[0;34m[\u001b[0m\u001b[0;34m\"_fast_init\"\u001b[0m\u001b[0;34m]\u001b[0m \u001b[0;34m=\u001b[0m \u001b[0;32mFalse\u001b[0m\u001b[0;34m\u001b[0m\u001b[0;34m\u001b[0m\u001b[0m\n\u001b[0;32m--> 245\u001b[0;31m         \u001b[0;32mreturn\u001b[0m \u001b[0msuper\u001b[0m\u001b[0;34m(\u001b[0m\u001b[0;34m)\u001b[0m\u001b[0;34m.\u001b[0m\u001b[0mfrom_pretrained\u001b[0m\u001b[0;34m(\u001b[0m\u001b[0;34m*\u001b[0m\u001b[0margs\u001b[0m\u001b[0;34m,\u001b[0m \u001b[0;34m**\u001b[0m\u001b[0mkwargs\u001b[0m\u001b[0;34m)\u001b[0m\u001b[0;34m\u001b[0m\u001b[0;34m\u001b[0m\u001b[0m\n\u001b[0m\u001b[1;32m    246\u001b[0m \u001b[0;34m\u001b[0m\u001b[0m\n\u001b[1;32m    247\u001b[0m     \u001b[0;34m@\u001b[0m\u001b[0mclassmethod\u001b[0m\u001b[0;34m\u001b[0m\u001b[0;34m\u001b[0m\u001b[0m\n",
            "\u001b[0;32m/usr/local/lib/python3.8/dist-packages/transformers/modeling_utils.py\u001b[0m in \u001b[0;36mfrom_pretrained\u001b[0;34m(cls, pretrained_model_name_or_path, *model_args, **kwargs)\u001b[0m\n\u001b[1;32m   1455\u001b[0m                 \u001b[0mcls\u001b[0m\u001b[0;34m.\u001b[0m\u001b[0m_load_state_dict_into_model_low_mem\u001b[0m\u001b[0;34m(\u001b[0m\u001b[0mmodel\u001b[0m\u001b[0;34m,\u001b[0m \u001b[0mloaded_state_dict_keys\u001b[0m\u001b[0;34m,\u001b[0m \u001b[0mresolved_archive_file\u001b[0m\u001b[0;34m)\u001b[0m\u001b[0;34m\u001b[0m\u001b[0;34m\u001b[0m\u001b[0m\n\u001b[1;32m   1456\u001b[0m             \u001b[0;32melse\u001b[0m\u001b[0;34m:\u001b[0m\u001b[0;34m\u001b[0m\u001b[0;34m\u001b[0m\u001b[0m\n\u001b[0;32m-> 1457\u001b[0;31m                 model, missing_keys, unexpected_keys, mismatched_keys, error_msgs = cls._load_state_dict_into_model(\n\u001b[0m\u001b[1;32m   1458\u001b[0m                     \u001b[0mmodel\u001b[0m\u001b[0;34m,\u001b[0m\u001b[0;34m\u001b[0m\u001b[0;34m\u001b[0m\u001b[0m\n\u001b[1;32m   1459\u001b[0m                     \u001b[0mstate_dict\u001b[0m\u001b[0;34m,\u001b[0m\u001b[0;34m\u001b[0m\u001b[0;34m\u001b[0m\u001b[0m\n",
            "\u001b[0;32m/usr/local/lib/python3.8/dist-packages/transformers/modeling_utils.py\u001b[0m in \u001b[0;36m_load_state_dict_into_model\u001b[0;34m(cls, model, state_dict, pretrained_model_name_or_path, ignore_mismatched_sizes, _fast_init)\u001b[0m\n\u001b[1;32m   1609\u001b[0m         \u001b[0;32mif\u001b[0m \u001b[0mlen\u001b[0m\u001b[0;34m(\u001b[0m\u001b[0merror_msgs\u001b[0m\u001b[0;34m)\u001b[0m \u001b[0;34m>\u001b[0m \u001b[0;36m0\u001b[0m\u001b[0;34m:\u001b[0m\u001b[0;34m\u001b[0m\u001b[0;34m\u001b[0m\u001b[0m\n\u001b[1;32m   1610\u001b[0m             \u001b[0merror_msg\u001b[0m \u001b[0;34m=\u001b[0m \u001b[0;34m\"\\n\\t\"\u001b[0m\u001b[0;34m.\u001b[0m\u001b[0mjoin\u001b[0m\u001b[0;34m(\u001b[0m\u001b[0merror_msgs\u001b[0m\u001b[0;34m)\u001b[0m\u001b[0;34m\u001b[0m\u001b[0;34m\u001b[0m\u001b[0m\n\u001b[0;32m-> 1611\u001b[0;31m             \u001b[0;32mraise\u001b[0m \u001b[0mRuntimeError\u001b[0m\u001b[0;34m(\u001b[0m\u001b[0;34mf\"Error(s) in loading state_dict for {model.__class__.__name__}:\\n\\t{error_msg}\"\u001b[0m\u001b[0;34m)\u001b[0m\u001b[0;34m\u001b[0m\u001b[0;34m\u001b[0m\u001b[0m\n\u001b[0m\u001b[1;32m   1612\u001b[0m \u001b[0;34m\u001b[0m\u001b[0m\n\u001b[1;32m   1613\u001b[0m         \u001b[0;32mif\u001b[0m \u001b[0mlen\u001b[0m\u001b[0;34m(\u001b[0m\u001b[0munexpected_keys\u001b[0m\u001b[0;34m)\u001b[0m \u001b[0;34m>\u001b[0m \u001b[0;36m0\u001b[0m\u001b[0;34m:\u001b[0m\u001b[0;34m\u001b[0m\u001b[0;34m\u001b[0m\u001b[0m\n",
            "\u001b[0;31mRuntimeError\u001b[0m: Error(s) in loading state_dict for VisionEncoderDecoderModel:\n\tsize mismatch for decoder.model.decoder.embed_tokens.weight: copying a param with shape torch.Size([2667, 256]) from checkpoint, the shape in current model is torch.Size([3081, 256]).\n\tsize mismatch for decoder.output_projection.weight: copying a param with shape torch.Size([2667, 256]) from checkpoint, the shape in current model is torch.Size([3081, 256])."
          ]
        }
      ]
    },
    {
      "cell_type": "markdown",
      "source": [
        "\n",
        "\n",
        "```\n",
        "training_args = Seq2SeqTrainingArguments(\n",
        "        predict_with_generate=True,\n",
        "        evaluation_strategy=\"steps\",\n",
        "        per_device_train_batch_size=args.per_device_train_batch_size,\n",
        "        per_device_eval_batch_size=8,\n",
        "        fp16=True,\n",
        "        output_dir=args.checkpoint_path,\n",
        "        logging_steps=10,\n",
        "        num_train_epochs=args.num_train_epochs,\n",
        "        save_steps=args.eval_steps,\n",
        "        eval_steps=args.eval_steps,\n",
        "        save_total_limit=5\n",
        "    )\n",
        "\n",
        "# seq2seq trainer\n",
        "trainer = Seq2SeqTrainer(\n",
        "    model=model,\n",
        "    tokenizer=processor.feature_extractor,\n",
        "    args=training_args,\n",
        "    compute_metrics=compute_metrics,\n",
        "    train_dataset=train_dataset,\n",
        "    eval_dataset=eval_dataset,\n",
        "    data_collator=default_data_collator,\n",
        ")\n",
        "trainer.train()\n",
        "trainer.save_model(os.path.join(args.checkpoint_path, 'last'))\n",
        "processor.save_pretrained(os.path.join(args.checkpoint_path, 'last'))\n",
        "\n",
        "```\n",
        "\n"
      ],
      "metadata": {
        "id": "ltIFvkif2HRn"
      }
    },
    {
      "cell_type": "markdown",
      "source": [
        "---"
      ],
      "metadata": {
        "id": "MCs7YDu22QAw"
      }
    },
    {
      "cell_type": "markdown",
      "source": [
        "## 模型结构分析"
      ],
      "metadata": {
        "id": "5jFJ0zOj2RQq"
      }
    },
    {
      "cell_type": "markdown",
      "source": [
        "参考transformers github"
      ],
      "metadata": {
        "id": "JzhNeT4A3Cdm"
      }
    },
    {
      "cell_type": "code",
      "source": [],
      "metadata": {
        "id": "YzxxSvBw2F3z"
      },
      "execution_count": null,
      "outputs": []
    },
    {
      "cell_type": "code",
      "source": [],
      "metadata": {
        "id": "hlzJ3bk31gCm"
      },
      "execution_count": null,
      "outputs": []
    }
  ]
}