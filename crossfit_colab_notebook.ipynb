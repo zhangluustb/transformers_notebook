{
  "nbformat": 4,
  "nbformat_minor": 0,
  "metadata": {
    "colab": {
      "provenance": [],
      "authorship_tag": "ABX9TyMrUAGEzsXFLzidBhHDUMqV",
      "include_colab_link": true
    },
    "kernelspec": {
      "name": "python3",
      "display_name": "Python 3"
    },
    "language_info": {
      "name": "python"
    },
    "accelerator": "GPU",
    "gpuClass": "standard"
  },
  "cells": [
    {
      "cell_type": "markdown",
      "metadata": {
        "id": "view-in-github",
        "colab_type": "text"
      },
      "source": [
        "<a href=\"https://colab.research.google.com/github/zhangluustb/transformers_notebook/blob/main/crossfit_colab_notebook.ipynb\" target=\"_parent\"><img src=\"https://colab.research.google.com/assets/colab-badge.svg\" alt=\"Open In Colab\"/></a>"
      ]
    },
    {
      "cell_type": "code",
      "execution_count": null,
      "metadata": {
        "id": "vv7pGe0b1E1X"
      },
      "outputs": [],
      "source": [
        "# For building the NLP Few-shot Gym\n",
        "!pip install datasets==1.4.0 py7zr wget\n",
        "# For reproducing the baseline methods\n",
        "!pip install torch==1.4.0 higher==0.2.1 scikit-learn==0.24.1 scipy==1.4.1 rouge==1.0.0\n",
        "!pip install git+https://github.com/huggingface/transformers.git@7b75aa9fa55bee577e2c7403301ed31103125a35"
      ]
    },
    {
      "cell_type": "code",
      "source": [
        "!git clone https://github.com/INK-USC/CrossFit.git"
      ],
      "metadata": {
        "colab": {
          "base_uri": "https://localhost:8080/"
        },
        "id": "gCi7Shz21M-z",
        "outputId": "5664db75-e376-444f-e25b-d216d9b2a898"
      },
      "execution_count": 2,
      "outputs": [
        {
          "output_type": "stream",
          "name": "stdout",
          "text": [
            "Cloning into 'CrossFit'...\n",
            "remote: Enumerating objects: 449, done.\u001b[K\n",
            "remote: Counting objects: 100% (37/37), done.\u001b[K\n",
            "remote: Compressing objects: 100% (10/10), done.\u001b[K\n",
            "remote: Total 449 (delta 31), reused 27 (delta 27), pack-reused 412\u001b[K\n",
            "Receiving objects: 100% (449/449), 197.61 KiB | 7.90 MiB/s, done.\n",
            "Resolving deltas: 100% (335/335), done.\n"
          ]
        }
      ]
    },
    {
      "cell_type": "code",
      "source": [
        "import os\n",
        "os.chdir(\"CrossFit/tasks\")"
      ],
      "metadata": {
        "id": "g4NbwtWP12-l"
      },
      "execution_count": 8,
      "outputs": []
    },
    {
      "cell_type": "code",
      "source": [
        "!python boolq.py"
      ],
      "metadata": {
        "colab": {
          "base_uri": "https://localhost:8080/"
        },
        "id": "qM5--xZ-1z8B",
        "outputId": "6ca54352-991a-4c12-fbf7-add96413727a"
      },
      "execution_count": 10,
      "outputs": [
        {
          "output_type": "stream",
          "name": "stdout",
          "text": [
            "\rDownloading:   0% 0.00/1.45k [00:00<?, ?B/s]\rDownloading: 3.44kB [00:00, 2.95MB/s]       \n",
            "\rDownloading:   0% 0.00/952 [00:00<?, ?B/s]\rDownloading: 1.91kB [00:00, 1.81MB/s]     \n",
            "Using custom data configuration default\n",
            "Downloading and preparing dataset boolq/default (download: 8.36 MiB, generated: 7.47 MiB, post-processed: Unknown size, total: 15.82 MiB) to /root/.cache/huggingface/datasets/boolq/default/0.1.0/1fcfdc6f36dc89a2245ffbbd5248ab33890594b50396731ebc78411bdd2ca534...\n",
            "Downloading: 100% 6.53M/6.53M [00:00<00:00, 9.95MB/s]\n",
            "Downloading: 100% 2.24M/2.24M [00:00<00:00, 4.39MB/s]\n",
            "0 examples [00:00, ? examples/s]2023-02-20 08:02:16.657470: I tensorflow/core/platform/cpu_feature_guard.cc:193] This TensorFlow binary is optimized with oneAPI Deep Neural Network Library (oneDNN) to use the following CPU instructions in performance-critical operations:  AVX2 AVX512F FMA\n",
            "To enable them in other operations, rebuild TensorFlow with the appropriate compiler flags.\n",
            "2023-02-20 08:02:19.082244: W tensorflow/compiler/xla/stream_executor/platform/default/dso_loader.cc:64] Could not load dynamic library 'libnvinfer.so.7'; dlerror: libnvinfer.so.7: cannot open shared object file: No such file or directory; LD_LIBRARY_PATH: /usr/lib64-nvidia\n",
            "2023-02-20 08:02:19.082664: W tensorflow/compiler/xla/stream_executor/platform/default/dso_loader.cc:64] Could not load dynamic library 'libnvinfer_plugin.so.7'; dlerror: libnvinfer_plugin.so.7: cannot open shared object file: No such file or directory; LD_LIBRARY_PATH: /usr/lib64-nvidia\n",
            "2023-02-20 08:02:19.082687: W tensorflow/compiler/tf2tensorrt/utils/py_utils.cc:38] TF-TRT Warning: Cannot dlopen some TensorRT libraries. If you would like to use Nvidia GPU with TensorRT, please make sure the missing libraries mentioned above are installed properly.\n",
            "Dataset boolq downloaded and prepared to /root/.cache/huggingface/datasets/boolq/default/0.1.0/1fcfdc6f36dc89a2245ffbbd5248ab33890594b50396731ebc78411bdd2ca534. Subsequent calls will reuse this data.\n",
            "WARNING:datasets.builder:Using custom data configuration default\n",
            "WARNING:datasets.builder:Reusing dataset boolq (/root/.cache/huggingface/datasets/boolq/default/0.1.0/1fcfdc6f36dc89a2245ffbbd5248ab33890594b50396731ebc78411bdd2ca534)\n",
            "WARNING:datasets.builder:Using custom data configuration default\n",
            "WARNING:datasets.builder:Reusing dataset boolq (/root/.cache/huggingface/datasets/boolq/default/0.1.0/1fcfdc6f36dc89a2245ffbbd5248ab33890594b50396731ebc78411bdd2ca534)\n",
            "WARNING:datasets.builder:Using custom data configuration default\n",
            "WARNING:datasets.builder:Reusing dataset boolq (/root/.cache/huggingface/datasets/boolq/default/0.1.0/1fcfdc6f36dc89a2245ffbbd5248ab33890594b50396731ebc78411bdd2ca534)\n",
            "WARNING:datasets.builder:Using custom data configuration default\n",
            "WARNING:datasets.builder:Reusing dataset boolq (/root/.cache/huggingface/datasets/boolq/default/0.1.0/1fcfdc6f36dc89a2245ffbbd5248ab33890594b50396731ebc78411bdd2ca534)\n"
          ]
        }
      ]
    },
    {
      "cell_type": "code",
      "source": [
        "os.chdir(\"..\")"
      ],
      "metadata": {
        "id": "xtbW__oo2C5S"
      },
      "execution_count": 13,
      "outputs": []
    },
    {
      "cell_type": "code",
      "source": [
        "!python tune_hps_singletask.py --task_dir data/boolq/ --do_train --do_predict --learning_rate_list 1e-5 2e-5 5e-5 --bsz_list 2 4 8 --total_steps 1000 --eval_period 100 --warmup_steps 100 --model facebook/bart-base --output_dir models/singletask-boolq --predict_batch_size 32 "
      ],
      "metadata": {
        "colab": {
          "base_uri": "https://localhost:8080/"
        },
        "id": "igy1bpNF2RHd",
        "outputId": "3a4ee96d-284a-40f4-e059-2f34082521f6"
      },
      "execution_count": null,
      "outputs": [
        {
          "output_type": "stream",
          "name": "stdout",
          "text": [
            "2023-02-20 08:04:27.792213: I tensorflow/core/platform/cpu_feature_guard.cc:193] This TensorFlow binary is optimized with oneAPI Deep Neural Network Library (oneDNN) to use the following CPU instructions in performance-critical operations:  AVX2 AVX512F FMA\n",
            "To enable them in other operations, rebuild TensorFlow with the appropriate compiler flags.\n",
            "2023-02-20 08:04:28.678215: W tensorflow/compiler/xla/stream_executor/platform/default/dso_loader.cc:64] Could not load dynamic library 'libnvinfer.so.7'; dlerror: libnvinfer.so.7: cannot open shared object file: No such file or directory; LD_LIBRARY_PATH: /usr/lib64-nvidia\n",
            "2023-02-20 08:04:28.678326: W tensorflow/compiler/xla/stream_executor/platform/default/dso_loader.cc:64] Could not load dynamic library 'libnvinfer_plugin.so.7'; dlerror: libnvinfer_plugin.so.7: cannot open shared object file: No such file or directory; LD_LIBRARY_PATH: /usr/lib64-nvidia\n",
            "2023-02-20 08:04:28.678345: W tensorflow/compiler/tf2tensorrt/utils/py_utils.cc:38] TF-TRT Warning: Cannot dlopen some TensorRT libraries. If you would like to use Nvidia GPU with TensorRT, please make sure the missing libraries mentioned above are installed properly.\n",
            "Downloading: 100% 899k/899k [00:00<00:00, 1.76MB/s]\n",
            "Downloading: 100% 456k/456k [00:00<00:00, 1.33MB/s]\n",
            "Downloading: 100% 1.55k/1.55k [00:00<00:00, 1.15MB/s]\n",
            "Downloading: 100% 558M/558M [00:06<00:00, 92.4MB/s]\n",
            "Epoch 0: 100% 16/16 [00:02<00:00,  6.81it/s]\n",
            "Epoch 1: 100% 16/16 [00:02<00:00,  7.53it/s]\n",
            "Epoch 2: 100% 16/16 [00:02<00:00,  7.79it/s]\n",
            "Epoch 3: 100% 16/16 [00:02<00:00,  7.83it/s]\n",
            "Epoch 4: 100% 16/16 [00:02<00:00,  7.85it/s]\n",
            "Epoch 5: 100% 16/16 [00:02<00:00,  7.90it/s]\n",
            "Epoch 6: 100% 16/16 [00:05<00:00,  3.17it/s]\n",
            "Epoch 7: 100% 16/16 [00:02<00:00,  7.75it/s]\n",
            "Epoch 8: 100% 16/16 [00:02<00:00,  7.78it/s]\n",
            "Epoch 9: 100% 16/16 [00:02<00:00,  7.86it/s]\n",
            "Epoch 10: 100% 16/16 [00:02<00:00,  7.80it/s]\n",
            "Epoch 11: 100% 16/16 [00:02<00:00,  7.60it/s]\n",
            "Epoch 12: 100% 16/16 [00:04<00:00,  3.49it/s]\n",
            "Epoch 13: 100% 16/16 [00:02<00:00,  7.77it/s]\n",
            "Epoch 14: 100% 16/16 [00:02<00:00,  7.70it/s]\n",
            "Epoch 15: 100% 16/16 [00:02<00:00,  7.78it/s]\n",
            "Epoch 16: 100% 16/16 [00:02<00:00,  7.72it/s]\n",
            "Epoch 17: 100% 16/16 [00:02<00:00,  7.34it/s]\n",
            "Epoch 18: 100% 16/16 [00:03<00:00,  4.36it/s]\n",
            "Epoch 19: 100% 16/16 [00:02<00:00,  7.77it/s]\n",
            "Epoch 20: 100% 16/16 [00:02<00:00,  7.64it/s]\n",
            "Epoch 21: 100% 16/16 [00:02<00:00,  7.57it/s]\n",
            "Epoch 22: 100% 16/16 [00:02<00:00,  7.63it/s]\n",
            "Epoch 23: 100% 16/16 [00:02<00:00,  7.30it/s]\n",
            "Epoch 24: 100% 16/16 [00:03<00:00,  4.35it/s]\n",
            "Epoch 25: 100% 16/16 [00:02<00:00,  7.61it/s]\n",
            "Epoch 26: 100% 16/16 [00:02<00:00,  7.59it/s]\n",
            "Epoch 27: 100% 16/16 [00:02<00:00,  7.63it/s]\n",
            "Epoch 28: 100% 16/16 [00:02<00:00,  7.62it/s]\n",
            "Epoch 29: 100% 16/16 [00:02<00:00,  7.43it/s]\n",
            "Epoch 30: 100% 16/16 [00:02<00:00,  6.82it/s]\n",
            "Epoch 31: 100% 16/16 [00:03<00:00,  4.58it/s]\n",
            "Epoch 32: 100% 16/16 [00:02<00:00,  7.69it/s]\n",
            "Epoch 33: 100% 16/16 [00:02<00:00,  7.60it/s]\n",
            "Epoch 34: 100% 16/16 [00:02<00:00,  7.61it/s]\n",
            "Epoch 35: 100% 16/16 [00:02<00:00,  7.51it/s]\n",
            "Epoch 36: 100% 16/16 [00:02<00:00,  6.88it/s]\n",
            "Epoch 37: 100% 16/16 [00:03<00:00,  4.72it/s]\n",
            "Epoch 38: 100% 16/16 [00:02<00:00,  7.67it/s]\n",
            "Epoch 39: 100% 16/16 [00:02<00:00,  7.70it/s]\n",
            "Epoch 40: 100% 16/16 [00:02<00:00,  7.67it/s]\n",
            "Epoch 41: 100% 16/16 [00:02<00:00,  7.56it/s]\n",
            "Epoch 42: 100% 16/16 [00:02<00:00,  7.00it/s]\n",
            "Epoch 43: 100% 16/16 [00:03<00:00,  4.73it/s]\n",
            "Epoch 44: 100% 16/16 [00:02<00:00,  7.76it/s]\n",
            "Epoch 45: 100% 16/16 [00:02<00:00,  7.72it/s]\n",
            "Epoch 46: 100% 16/16 [00:02<00:00,  7.65it/s]\n",
            "Epoch 47: 100% 16/16 [00:02<00:00,  7.63it/s]\n",
            "Epoch 48: 100% 16/16 [00:02<00:00,  6.92it/s]\n",
            "Epoch 49: 100% 16/16 [00:03<00:00,  4.58it/s]\n",
            "Epoch 50: 100% 16/16 [00:02<00:00,  7.58it/s]\n",
            "Epoch 51: 100% 16/16 [00:02<00:00,  7.66it/s]\n",
            "Epoch 52: 100% 16/16 [00:02<00:00,  7.66it/s]\n",
            "Epoch 53: 100% 16/16 [00:02<00:00,  7.67it/s]\n",
            "Epoch 54: 100% 16/16 [00:02<00:00,  7.14it/s]\n",
            "Epoch 55: 100% 16/16 [00:02<00:00,  6.76it/s]\n",
            "Epoch 56: 100% 16/16 [00:03<00:00,  4.93it/s]\n",
            "Epoch 57: 100% 16/16 [00:02<00:00,  7.59it/s]\n",
            "Epoch 58: 100% 16/16 [00:02<00:00,  7.60it/s]\n",
            "Epoch 59: 100% 16/16 [00:02<00:00,  7.68it/s]\n",
            "Epoch 60: 100% 16/16 [00:02<00:00,  7.23it/s]\n",
            "Epoch 61: 100% 16/16 [00:02<00:00,  6.69it/s]\n",
            "Epoch 62:  44% 7/16 [00:02<00:02,  3.11it/s]\n",
            "Epoch 0: 100% 8/8 [00:01<00:00,  5.47it/s]\n",
            "Epoch 1: 100% 8/8 [00:01<00:00,  5.49it/s]\n",
            "Epoch 2: 100% 8/8 [00:01<00:00,  5.51it/s]\n",
            "Epoch 3: 100% 8/8 [00:01<00:00,  5.37it/s]\n",
            "Epoch 4: 100% 8/8 [00:01<00:00,  5.36it/s]\n",
            "Epoch 5: 100% 8/8 [00:01<00:00,  5.39it/s]\n",
            "Epoch 6: 100% 8/8 [00:01<00:00,  5.39it/s]\n",
            "Epoch 7: 100% 8/8 [00:01<00:00,  5.31it/s]\n",
            "Epoch 8: 100% 8/8 [00:01<00:00,  5.42it/s]\n",
            "Epoch 9: 100% 8/8 [00:01<00:00,  5.64it/s]\n",
            "Epoch 10: 100% 8/8 [00:01<00:00,  5.55it/s]\n",
            "Epoch 11: 100% 8/8 [00:01<00:00,  5.41it/s]\n",
            "Epoch 12: 100% 8/8 [00:03<00:00,  2.30it/s]\n",
            "Epoch 13: 100% 8/8 [00:01<00:00,  5.15it/s]\n",
            "Epoch 14: 100% 8/8 [00:01<00:00,  5.37it/s]\n",
            "Epoch 15: 100% 8/8 [00:01<00:00,  5.18it/s]\n",
            "Epoch 16: 100% 8/8 [00:01<00:00,  5.12it/s]\n",
            "Epoch 17: 100% 8/8 [00:01<00:00,  5.28it/s]\n",
            "Epoch 18: 100% 8/8 [00:01<00:00,  5.40it/s]\n",
            "Epoch 19: 100% 8/8 [00:01<00:00,  5.37it/s]\n",
            "Epoch 20: 100% 8/8 [00:01<00:00,  5.29it/s]\n",
            "Epoch 21: 100% 8/8 [00:01<00:00,  5.44it/s]\n",
            "Epoch 22: 100% 8/8 [00:01<00:00,  5.47it/s]\n",
            "Epoch 23: 100% 8/8 [00:01<00:00,  5.39it/s]\n",
            "Epoch 24: 100% 8/8 [00:03<00:00,  2.61it/s]\n",
            "Epoch 25: 100% 8/8 [00:01<00:00,  5.50it/s]\n",
            "Epoch 26: 100% 8/8 [00:01<00:00,  5.50it/s]\n",
            "Epoch 27: 100% 8/8 [00:01<00:00,  5.35it/s]\n",
            "Epoch 28: 100% 8/8 [00:01<00:00,  5.39it/s]\n",
            "Epoch 29: 100% 8/8 [00:01<00:00,  5.47it/s]\n",
            "Epoch 30: 100% 8/8 [00:01<00:00,  5.42it/s]\n",
            "Epoch 31: 100% 8/8 [00:01<00:00,  5.54it/s]\n",
            "Epoch 32: 100% 8/8 [00:01<00:00,  5.59it/s]\n",
            "Epoch 33: 100% 8/8 [00:01<00:00,  5.24it/s]\n",
            "Epoch 34: 100% 8/8 [00:01<00:00,  5.37it/s]\n",
            "Epoch 35: 100% 8/8 [00:01<00:00,  5.58it/s]\n",
            "Epoch 36: 100% 8/8 [00:01<00:00,  5.46it/s]\n",
            "Epoch 37: 100% 8/8 [00:02<00:00,  3.03it/s]\n",
            "Epoch 38: 100% 8/8 [00:01<00:00,  5.49it/s]\n",
            "Epoch 39: 100% 8/8 [00:01<00:00,  5.38it/s]\n",
            "Epoch 40: 100% 8/8 [00:01<00:00,  5.46it/s]\n",
            "Epoch 41: 100% 8/8 [00:01<00:00,  5.46it/s]\n",
            "Epoch 42: 100% 8/8 [00:01<00:00,  5.32it/s]\n",
            "Epoch 43: 100% 8/8 [00:01<00:00,  5.55it/s]\n",
            "Epoch 44: 100% 8/8 [00:01<00:00,  5.46it/s]\n",
            "Epoch 45: 100% 8/8 [00:01<00:00,  5.44it/s]\n",
            "Epoch 46: 100% 8/8 [00:01<00:00,  5.44it/s]\n",
            "Epoch 47: 100% 8/8 [00:01<00:00,  5.54it/s]\n",
            "Epoch 48: 100% 8/8 [00:01<00:00,  5.54it/s]\n",
            "Epoch 49: 100% 8/8 [00:02<00:00,  3.02it/s]\n",
            "Epoch 50: 100% 8/8 [00:01<00:00,  5.70it/s]\n",
            "Epoch 51: 100% 8/8 [00:01<00:00,  5.42it/s]\n",
            "Epoch 52: 100% 8/8 [00:01<00:00,  5.27it/s]\n",
            "Epoch 53: 100% 8/8 [00:01<00:00,  5.64it/s]\n",
            "Epoch 54: 100% 8/8 [00:01<00:00,  5.61it/s]\n",
            "Epoch 55: 100% 8/8 [00:01<00:00,  5.39it/s]\n",
            "Epoch 56: 100% 8/8 [00:01<00:00,  5.41it/s]\n",
            "Epoch 57: 100% 8/8 [00:01<00:00,  5.50it/s]\n",
            "Epoch 58: 100% 8/8 [00:01<00:00,  5.42it/s]\n",
            "Epoch 59: 100% 8/8 [00:01<00:00,  5.44it/s]\n",
            "Epoch 60: 100% 8/8 [00:01<00:00,  5.23it/s]\n",
            "Epoch 61: 100% 8/8 [00:01<00:00,  5.23it/s]\n",
            "Epoch 62: 100% 8/8 [00:02<00:00,  2.80it/s]\n",
            "Epoch 63: 100% 8/8 [00:01<00:00,  5.32it/s]\n",
            "Epoch 64: 100% 8/8 [00:01<00:00,  5.65it/s]\n",
            "Epoch 65: 100% 8/8 [00:01<00:00,  5.38it/s]\n",
            "Epoch 66: 100% 8/8 [00:01<00:00,  5.38it/s]\n",
            "Epoch 67: 100% 8/8 [00:01<00:00,  5.66it/s]\n",
            "Epoch 68: 100% 8/8 [00:01<00:00,  5.36it/s]\n",
            "Epoch 69: 100% 8/8 [00:01<00:00,  5.28it/s]\n",
            "Epoch 70: 100% 8/8 [00:01<00:00,  5.30it/s]\n",
            "Epoch 71: 100% 8/8 [00:01<00:00,  5.26it/s]\n",
            "Epoch 72: 100% 8/8 [00:01<00:00,  5.27it/s]\n",
            "Epoch 73: 100% 8/8 [00:01<00:00,  5.44it/s]\n",
            "Epoch 74: 100% 8/8 [00:02<00:00,  3.01it/s]\n",
            "Epoch 75: 100% 8/8 [00:01<00:00,  5.51it/s]\n",
            "Epoch 76: 100% 8/8 [00:01<00:00,  5.36it/s]\n",
            "Epoch 77: 100% 8/8 [00:01<00:00,  5.48it/s]\n",
            "Epoch 78: 100% 8/8 [00:01<00:00,  5.27it/s]\n",
            "Epoch 79: 100% 8/8 [00:01<00:00,  5.22it/s]\n",
            "Epoch 80: 100% 8/8 [00:01<00:00,  5.44it/s]\n",
            "Epoch 81: 100% 8/8 [00:01<00:00,  5.36it/s]\n",
            "Epoch 82: 100% 8/8 [00:01<00:00,  5.39it/s]\n",
            "Epoch 83: 100% 8/8 [00:01<00:00,  5.37it/s]\n",
            "Epoch 84: 100% 8/8 [00:01<00:00,  5.37it/s]\n",
            "Epoch 85: 100% 8/8 [00:01<00:00,  5.47it/s]\n",
            "Epoch 86: 100% 8/8 [00:01<00:00,  5.59it/s]\n",
            "Epoch 87: 100% 8/8 [00:02<00:00,  2.71it/s]\n",
            "Epoch 88: 100% 8/8 [00:01<00:00,  5.22it/s]\n",
            "Epoch 89: 100% 8/8 [00:01<00:00,  5.47it/s]\n",
            "Epoch 90: 100% 8/8 [00:01<00:00,  5.38it/s]\n",
            "Epoch 91: 100% 8/8 [00:01<00:00,  5.44it/s]\n",
            "Epoch 92: 100% 8/8 [00:01<00:00,  5.43it/s]\n",
            "Epoch 93: 100% 8/8 [00:01<00:00,  5.37it/s]\n",
            "Epoch 94: 100% 8/8 [00:01<00:00,  5.37it/s]\n",
            "Epoch 95: 100% 8/8 [00:01<00:00,  5.32it/s]\n",
            "Epoch 96: 100% 8/8 [00:01<00:00,  5.26it/s]\n",
            "Epoch 97: 100% 8/8 [00:01<00:00,  5.40it/s]\n",
            "Epoch 98: 100% 8/8 [00:01<00:00,  5.36it/s]\n",
            "Epoch 99: 100% 8/8 [00:02<00:00,  2.97it/s]\n",
            "Epoch 100: 100% 8/8 [00:01<00:00,  5.62it/s]\n",
            "Epoch 101: 100% 8/8 [00:01<00:00,  5.50it/s]\n",
            "Epoch 102: 100% 8/8 [00:01<00:00,  5.39it/s]\n",
            "Epoch 103: 100% 8/8 [00:01<00:00,  5.51it/s]\n",
            "Epoch 104: 100% 8/8 [00:01<00:00,  5.26it/s]\n",
            "Epoch 105: 100% 8/8 [00:01<00:00,  5.52it/s]\n",
            "Epoch 106: 100% 8/8 [00:01<00:00,  5.31it/s]\n",
            "Epoch 107: 100% 8/8 [00:01<00:00,  5.29it/s]\n",
            "Epoch 108: 100% 8/8 [00:01<00:00,  5.38it/s]\n",
            "Epoch 109: 100% 8/8 [00:01<00:00,  5.49it/s]\n",
            "Epoch 110: 100% 8/8 [00:01<00:00,  5.37it/s]\n",
            "Epoch 111: 100% 8/8 [00:01<00:00,  5.40it/s]\n",
            "Epoch 112: 100% 8/8 [00:02<00:00,  2.95it/s]\n",
            "Epoch 113: 100% 8/8 [00:01<00:00,  5.34it/s]\n",
            "Epoch 114: 100% 8/8 [00:01<00:00,  5.28it/s]\n",
            "Epoch 115: 100% 8/8 [00:01<00:00,  5.29it/s]\n",
            "Epoch 116: 100% 8/8 [00:01<00:00,  5.36it/s]\n",
            "Epoch 117: 100% 8/8 [00:01<00:00,  5.48it/s]\n",
            "Epoch 118: 100% 8/8 [00:01<00:00,  5.50it/s]\n",
            "Epoch 119: 100% 8/8 [00:01<00:00,  5.60it/s]\n",
            "Epoch 120: 100% 8/8 [00:01<00:00,  5.50it/s]\n",
            "Epoch 121: 100% 8/8 [00:01<00:00,  5.37it/s]\n",
            "Epoch 122: 100% 8/8 [00:01<00:00,  5.41it/s]\n",
            "Epoch 123: 100% 8/8 [00:01<00:00,  5.34it/s]\n",
            "Epoch 124:  88% 7/8 [00:02<00:00,  2.34it/s]\n",
            "Epoch 0: 100% 4/4 [00:01<00:00,  3.23it/s]\n",
            "Epoch 1: 100% 4/4 [00:01<00:00,  3.16it/s]\n",
            "Epoch 2: 100% 4/4 [00:01<00:00,  3.19it/s]\n",
            "Epoch 3: 100% 4/4 [00:01<00:00,  3.26it/s]\n",
            "Epoch 4: 100% 4/4 [00:01<00:00,  3.14it/s]\n",
            "Epoch 5: 100% 4/4 [00:01<00:00,  3.37it/s]\n",
            "Epoch 6: 100% 4/4 [00:01<00:00,  3.06it/s]\n",
            "Epoch 7: 100% 4/4 [00:01<00:00,  3.18it/s]\n",
            "Epoch 8: 100% 4/4 [00:01<00:00,  3.21it/s]\n",
            "Epoch 9: 100% 4/4 [00:01<00:00,  3.27it/s]\n",
            "Epoch 10: 100% 4/4 [00:01<00:00,  3.22it/s]\n",
            "Epoch 11: 100% 4/4 [00:01<00:00,  3.21it/s]\n",
            "Epoch 12: 100% 4/4 [00:01<00:00,  3.18it/s]\n",
            "Epoch 13: 100% 4/4 [00:01<00:00,  3.29it/s]\n",
            "Epoch 14: 100% 4/4 [00:01<00:00,  3.14it/s]\n",
            "Epoch 15: 100% 4/4 [00:01<00:00,  3.07it/s]\n",
            "Epoch 16: 100% 4/4 [00:01<00:00,  3.29it/s]\n",
            "Epoch 17: 100% 4/4 [00:01<00:00,  3.26it/s]\n",
            "Epoch 18: 100% 4/4 [00:01<00:00,  3.19it/s]\n",
            "Epoch 19: 100% 4/4 [00:01<00:00,  3.25it/s]\n",
            "Epoch 20: 100% 4/4 [00:01<00:00,  3.16it/s]\n",
            "Epoch 21: 100% 4/4 [00:01<00:00,  3.07it/s]\n",
            "Epoch 22: 100% 4/4 [00:01<00:00,  3.07it/s]\n",
            "Epoch 23: 100% 4/4 [00:01<00:00,  3.25it/s]\n",
            "Epoch 24: 100% 4/4 [00:03<00:00,  1.31it/s]\n",
            "Epoch 25: 100% 4/4 [00:01<00:00,  3.14it/s]\n",
            "Epoch 26: 100% 4/4 [00:01<00:00,  3.16it/s]\n",
            "Epoch 27: 100% 4/4 [00:01<00:00,  3.18it/s]\n",
            "Epoch 28: 100% 4/4 [00:01<00:00,  3.09it/s]\n",
            "Epoch 29: 100% 4/4 [00:01<00:00,  3.08it/s]\n",
            "Epoch 30: 100% 4/4 [00:01<00:00,  3.23it/s]\n",
            "Epoch 31: 100% 4/4 [00:01<00:00,  3.20it/s]\n",
            "Epoch 32: 100% 4/4 [00:01<00:00,  3.25it/s]\n",
            "Epoch 33: 100% 4/4 [00:01<00:00,  3.13it/s]\n",
            "Epoch 34: 100% 4/4 [00:01<00:00,  3.18it/s]\n",
            "Epoch 35: 100% 4/4 [00:01<00:00,  3.20it/s]\n",
            "Epoch 36: 100% 4/4 [00:01<00:00,  3.38it/s]\n",
            "Epoch 37: 100% 4/4 [00:01<00:00,  3.25it/s]\n",
            "Epoch 38: 100% 4/4 [00:01<00:00,  3.29it/s]\n",
            "Epoch 39: 100% 4/4 [00:01<00:00,  3.19it/s]\n",
            "Epoch 40: 100% 4/4 [00:01<00:00,  3.29it/s]\n",
            "Epoch 41: 100% 4/4 [00:01<00:00,  3.06it/s]\n",
            "Epoch 42:  25% 1/4 [00:00<00:00,  3.27it/s]"
          ]
        }
      ]
    },
    {
      "cell_type": "code",
      "source": [],
      "metadata": {
        "id": "ljWIWF672Sz4"
      },
      "execution_count": null,
      "outputs": []
    }
  ]
}